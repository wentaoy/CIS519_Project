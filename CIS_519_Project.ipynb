{
  "nbformat": 4,
  "nbformat_minor": 0,
  "metadata": {
    "accelerator": "GPU",
    "colab": {
      "name": "CIS 519 Project.ipynb",
      "provenance": [],
      "collapsed_sections": [],
      "include_colab_link": true
    },
    "kernelspec": {
      "display_name": "Python 3",
      "name": "python3"
    },
    "language_info": {
      "name": "python"
    }
  },
  "cells": [
    {
      "cell_type": "markdown",
      "metadata": {
        "id": "view-in-github",
        "colab_type": "text"
      },
      "source": [
        "<a href=\"https://colab.research.google.com/github/wentaoy/hello-world/blob/master/CIS_519_Project.ipynb\" target=\"_parent\"><img src=\"https://colab.research.google.com/assets/colab-badge.svg\" alt=\"Open In Colab\"/></a>"
      ]
    },
    {
      "cell_type": "markdown",
      "metadata": {
        "id": "ZP1vHeCqdhsg"
      },
      "source": [
        "Data Prepocessing\n"
      ]
    },
    {
      "cell_type": "code",
      "metadata": {
        "colab": {
          "base_uri": "https://localhost:8080/",
          "height": 204
        },
        "id": "wCWeeF6LdYsc",
        "outputId": "0b259bf8-c525-44cb-ef98-7e48e70cd791"
      },
      "source": [
        "import numpy as np\n",
        "import pandas as pd\n",
        "\n",
        "df = pd.read_csv('oasis_longitudinal.csv')\n",
        "\n",
        "# delete non-useful data features\n",
        "# delet Subject ID, MRI ID, Visit, MR Delay, Hand \n",
        "df = df.drop(['Subject ID', 'MRI ID', 'Visit', 'MR Delay', 'Hand'], axis = 1)\n",
        "\n",
        "# One-Hot encoded\n",
        "df['M/F'] = df['M/F'].replace(['F', 'M'], [0,1]) # F=0; M=1\n",
        "df['Group'] = df['Group'].replace(['Demented', 'Nondemented', 'Converted'], [0,1,2]) # Demented=0; Nondemented=1; Converted=2\n",
        "\n",
        "# fill missing values with mean\n",
        "df.fillna(df.mean(), inplace=True)\n",
        "\n",
        "df.head()"
      ],
      "execution_count": null,
      "outputs": [
        {
          "output_type": "execute_result",
          "data": {
            "text/html": [
              "<div>\n",
              "<style scoped>\n",
              "    .dataframe tbody tr th:only-of-type {\n",
              "        vertical-align: middle;\n",
              "    }\n",
              "\n",
              "    .dataframe tbody tr th {\n",
              "        vertical-align: top;\n",
              "    }\n",
              "\n",
              "    .dataframe thead th {\n",
              "        text-align: right;\n",
              "    }\n",
              "</style>\n",
              "<table border=\"1\" class=\"dataframe\">\n",
              "  <thead>\n",
              "    <tr style=\"text-align: right;\">\n",
              "      <th></th>\n",
              "      <th>Group</th>\n",
              "      <th>M/F</th>\n",
              "      <th>Age</th>\n",
              "      <th>EDUC</th>\n",
              "      <th>SES</th>\n",
              "      <th>MMSE</th>\n",
              "      <th>CDR</th>\n",
              "      <th>eTIV</th>\n",
              "      <th>nWBV</th>\n",
              "      <th>ASF</th>\n",
              "    </tr>\n",
              "  </thead>\n",
              "  <tbody>\n",
              "    <tr>\n",
              "      <th>0</th>\n",
              "      <td>1</td>\n",
              "      <td>1</td>\n",
              "      <td>87</td>\n",
              "      <td>14</td>\n",
              "      <td>2.000000</td>\n",
              "      <td>27.0</td>\n",
              "      <td>0.0</td>\n",
              "      <td>1987</td>\n",
              "      <td>0.696</td>\n",
              "      <td>0.883</td>\n",
              "    </tr>\n",
              "    <tr>\n",
              "      <th>1</th>\n",
              "      <td>1</td>\n",
              "      <td>1</td>\n",
              "      <td>88</td>\n",
              "      <td>14</td>\n",
              "      <td>2.000000</td>\n",
              "      <td>30.0</td>\n",
              "      <td>0.0</td>\n",
              "      <td>2004</td>\n",
              "      <td>0.681</td>\n",
              "      <td>0.876</td>\n",
              "    </tr>\n",
              "    <tr>\n",
              "      <th>2</th>\n",
              "      <td>0</td>\n",
              "      <td>1</td>\n",
              "      <td>75</td>\n",
              "      <td>12</td>\n",
              "      <td>2.460452</td>\n",
              "      <td>23.0</td>\n",
              "      <td>0.5</td>\n",
              "      <td>1678</td>\n",
              "      <td>0.736</td>\n",
              "      <td>1.046</td>\n",
              "    </tr>\n",
              "    <tr>\n",
              "      <th>3</th>\n",
              "      <td>0</td>\n",
              "      <td>1</td>\n",
              "      <td>76</td>\n",
              "      <td>12</td>\n",
              "      <td>2.460452</td>\n",
              "      <td>28.0</td>\n",
              "      <td>0.5</td>\n",
              "      <td>1738</td>\n",
              "      <td>0.713</td>\n",
              "      <td>1.010</td>\n",
              "    </tr>\n",
              "    <tr>\n",
              "      <th>4</th>\n",
              "      <td>0</td>\n",
              "      <td>1</td>\n",
              "      <td>80</td>\n",
              "      <td>12</td>\n",
              "      <td>2.460452</td>\n",
              "      <td>22.0</td>\n",
              "      <td>0.5</td>\n",
              "      <td>1698</td>\n",
              "      <td>0.701</td>\n",
              "      <td>1.034</td>\n",
              "    </tr>\n",
              "  </tbody>\n",
              "</table>\n",
              "</div>"
            ],
            "text/plain": [
              "   Group  M/F  Age  EDUC       SES  MMSE  CDR  eTIV   nWBV    ASF\n",
              "0      1    1   87    14  2.000000  27.0  0.0  1987  0.696  0.883\n",
              "1      1    1   88    14  2.000000  30.0  0.0  2004  0.681  0.876\n",
              "2      0    1   75    12  2.460452  23.0  0.5  1678  0.736  1.046\n",
              "3      0    1   76    12  2.460452  28.0  0.5  1738  0.713  1.010\n",
              "4      0    1   80    12  2.460452  22.0  0.5  1698  0.701  1.034"
            ]
          },
          "metadata": {
            "tags": []
          },
          "execution_count": 1
        }
      ]
    },
    {
      "cell_type": "markdown",
      "metadata": {
        "id": "z308TyXYIVL2"
      },
      "source": [
        "Splitting data according to features.\n"
      ]
    },
    {
      "cell_type": "code",
      "metadata": {
        "id": "j5BGX795Swdb"
      },
      "source": [
        "# set target\n",
        "Y = df['Group']\n",
        "\n",
        "# separat dataset into three groups: with only survey-based features, with only MRI features, and with both\n",
        "\n",
        "X_all_feature = df[['M/F', 'Age', 'EDUC', 'SES', 'MMSE', 'CDR', 'eTIV', 'nWBV', 'ASF']]\n",
        "X_survey_feature = df[['M/F', 'Age', 'EDUC', 'SES', 'MMSE']]\n",
        "X_MRI_feature = df[['CDR', 'eTIV', 'nWBV', 'ASF']]\n",
        "\n",
        "# another two groups with no gender feature (ethics consideratioin)\n",
        "X_all_feature_nogender = df[['Age', 'EDUC', 'SES', 'MMSE', 'CDR', 'eTIV', 'nWBV', 'ASF']]\n",
        "X_survey_feature_nogender = df[['Age', 'EDUC', 'SES', 'MMSE']]\n"
      ],
      "execution_count": null,
      "outputs": []
    },
    {
      "cell_type": "markdown",
      "metadata": {
        "id": "IjIrn5WEZyGp"
      },
      "source": [
        "Training Decision Tree Model"
      ]
    },
    {
      "cell_type": "markdown",
      "metadata": {
        "id": "2car-mPAa3Z4"
      },
      "source": [
        "Train on all features."
      ]
    },
    {
      "cell_type": "code",
      "metadata": {
        "colab": {
          "base_uri": "https://localhost:8080/",
          "height": 334
        },
        "id": "332dvh--Z0YE",
        "outputId": "d0ca48cd-1c13-4ef0-d963-17428b6250f9"
      },
      "source": [
        "from sklearn.model_selection import train_test_split\n",
        "from sklearn.model_selection import cross_val_score\n",
        "from sklearn.tree import DecisionTreeClassifier\n",
        "import matplotlib.pyplot as plt\n",
        "\n",
        "# split traing and testing data\n",
        "# split three groups of data, testing size = 0.2\n",
        "# split data set with all features\n",
        "X_train1, X_test1, Y_train1, Y_test1 = train_test_split(X_all_feature, Y, test_size=0.2, random_state=0, shuffle=True)\n",
        "\n",
        "# have 9 features in total; so, try tree depth from 1 to 9\n",
        "# cross validate 5 times\n",
        "cros_valid_score = []\n",
        "test_score = []\n",
        "index = []\n",
        "for i in range(1,10):\n",
        "  index.append(i)\n",
        "  decisionTree = DecisionTreeClassifier(criterion='gini',splitter='best',max_depth=i)\n",
        "  valid_scores = cross_val_score(decisionTree, X_train1, Y_train1, cv = 5, scoring='accuracy')\n",
        "  valid_score = np.mean(valid_scores)\n",
        "  cros_valid_score.append(valid_score)\n",
        "\n",
        "  DTModel = decisionTree.fit(X_train1, Y_train1)\n",
        "  testScore = DTModel.score(X_test1, Y_test1)\n",
        "  test_score.append(testScore)\n",
        "\n",
        "print(test_score)\n",
        "\n",
        "# split traing and testing data\n",
        "# split three groups of data, testing size = 0.2\n",
        "# split data set with all features without no gender feature\n",
        "X_train1_nogender, X_test1_nogender, Y_train1, Y_test1 = train_test_split(X_all_feature_nogender, Y, test_size=0.2, random_state=0, shuffle=True)\n",
        "\n",
        "# have 8 features in total; so, try tree depth from 1 to 8\n",
        "# cross validate 5 times\n",
        "cros_valid_score_nogender = []\n",
        "test_score_nogender = []\n",
        "index_nogender = []\n",
        "for i in range(1,9):\n",
        "  index_nogender.append(i)\n",
        "  decisionTree = DecisionTreeClassifier(criterion='gini',splitter='best',max_depth=i)\n",
        "  valid_scores_nogender = cross_val_score(decisionTree, X_train1_nogender, Y_train1, cv = 5, scoring='accuracy')\n",
        "  valid_score_nogender = np.mean(valid_scores_nogender)\n",
        "  cros_valid_score_nogender.append(valid_score_nogender)\n",
        "\n",
        "  DTModel = decisionTree.fit(X_train1_nogender, Y_train1)\n",
        "  testScore_nogender = DTModel.score(X_test1_nogender, Y_test1)\n",
        "  test_score_nogender.append(testScore_nogender)\n",
        "\n",
        "print(test_score_nogender)\n",
        "\n",
        "plt.plot(index, cros_valid_score, 'b-')\n",
        "plt.plot(index, test_score,'y-')\n",
        "plt.plot(index_nogender, cros_valid_score_nogender, 'b--')\n",
        "plt.plot(index_nogender, test_score_nogender,'y--')\n",
        "plt.legend(['Cross Valid Score', 'Test Score', 'Cross Valid Score no-gender', 'Test Score no-gender'])\n",
        "plt.xlabel('Max_depth')\n",
        "plt.ylabel('Score')"
      ],
      "execution_count": null,
      "outputs": [
        {
          "output_type": "stream",
          "text": [
            "[0.8933333333333333, 0.8933333333333333, 0.88, 0.8266666666666667, 0.8, 0.8133333333333334, 0.8266666666666667, 0.8, 0.8133333333333334]\n",
            "[0.8933333333333333, 0.8933333333333333, 0.88, 0.8266666666666667, 0.8266666666666667, 0.8133333333333334, 0.84, 0.8133333333333334]\n"
          ],
          "name": "stdout"
        },
        {
          "output_type": "execute_result",
          "data": {
            "text/plain": [
              "Text(0, 0.5, 'Score')"
            ]
          },
          "metadata": {
            "tags": []
          },
          "execution_count": 3
        },
        {
          "output_type": "display_data",
          "data": {
            "image/png": "[encoded data removed]",
            "text/plain": [
              "<Figure size 432x288 with 1 Axes>"
            ]
          },
          "metadata": {
            "tags": []
          }
        }
      ]
    },
    {
      "cell_type": "markdown",
      "metadata": {
        "id": "kev518HzUYas"
      },
      "source": [
        "Train on survey-based features."
      ]
    },
    {
      "cell_type": "code",
      "metadata": {
        "colab": {
          "base_uri": "https://localhost:8080/",
          "height": 331
        },
        "id": "5FBcPZmdUXBe",
        "outputId": "64ca75e0-fecb-4706-8466-28f6cda573e3"
      },
      "source": [
        "from sklearn.model_selection import train_test_split\n",
        "from sklearn.model_selection import cross_val_score\n",
        "from sklearn.tree import DecisionTreeClassifier\n",
        "import matplotlib.pyplot as plt\n",
        "\n",
        "# split traing and testing data\n",
        "# split three groups of data, testing size = 0.2\n",
        "# split data set with only survey-based features\n",
        "X_train2, X_test2, Y_train2, Y_test2 = train_test_split(X_survey_feature, Y, test_size=0.2, random_state=0, shuffle=True)\n",
        "\n",
        "# have 5 features in total; so, try tree depth from 1 to 5\n",
        "# cross validate 5 times\n",
        "\n",
        "cros_valid_score = []\n",
        "test_score = []\n",
        "index = []\n",
        "for i in range(1,6):\n",
        "  index.append(i)\n",
        "  decisionTree = DecisionTreeClassifier(criterion='gini',splitter='best',max_depth=i)\n",
        "  valid_scores = cross_val_score(decisionTree, X_train2, Y_train2, cv = 5, scoring='accuracy')\n",
        "  valid_score = np.mean(valid_scores)\n",
        "  cros_valid_score.append(valid_score)\n",
        "\n",
        "  DTModel = decisionTree.fit(X_train2, Y_train2)\n",
        "  testScore = DTModel.score(X_test2, Y_test2)\n",
        "  test_score.append(testScore)\n",
        "\n",
        "print(test_score)\n",
        "\n",
        "# split traing and testing data\n",
        "# split three groups of data, testing size = 0.2\n",
        "# split data set with only survey-based features with no gender feature\n",
        "X_train2_nogender, X_test2_nogender, Y_train2, Y_test2 = train_test_split(X_survey_feature_nogender, Y, test_size=0.2, random_state=0, shuffle=True)\n",
        "\n",
        "# have 4 features in total; so, try tree depth from 1 to 4\n",
        "# cross validate 5 times\n",
        "\n",
        "cros_valid_score_nogender = []\n",
        "test_score_nogender = []\n",
        "index_nogender = []\n",
        "for i in range(1,5):\n",
        "  index_nogender.append(i)\n",
        "  decisionTree = DecisionTreeClassifier(criterion='gini',splitter='best',max_depth=i)\n",
        "  valid_scores_nogender = cross_val_score(decisionTree, X_train2_nogender, Y_train2, cv = 5, scoring='accuracy')\n",
        "  valid_score_nogender = np.mean(valid_scores_nogender)\n",
        "  cros_valid_score_nogender.append(valid_score_nogender)\n",
        "\n",
        "  DTModel = decisionTree.fit(X_train2_nogender, Y_train2)\n",
        "  testScore_nogender = DTModel.score(X_test2_nogender, Y_test2)\n",
        "  test_score_nogender.append(testScore_nogender)\n",
        "\n",
        "print(test_score_nogender)\n",
        "\n",
        "plt.plot(index, cros_valid_score, 'b-')\n",
        "plt.plot(index, test_score,'y-')\n",
        "plt.plot(index_nogender, cros_valid_score_nogender, 'b--')\n",
        "plt.plot(index_nogender, test_score_nogender,'y--')\n",
        "plt.legend(['Cross Valid Score', 'Test Score', 'Cross Valid Score no-gender', 'Test Score no-gender'])\n",
        "plt.xlabel('Max_depth')\n",
        "plt.ylabel('Score')"
      ],
      "execution_count": null,
      "outputs": [
        {
          "output_type": "stream",
          "text": [
            "[0.8, 0.8, 0.7066666666666667, 0.7733333333333333, 0.8133333333333334]\n",
            "[0.8, 0.8, 0.7866666666666666, 0.76]\n"
          ],
          "name": "stdout"
        },
        {
          "output_type": "execute_result",
          "data": {
            "text/plain": [
              "Text(0, 0.5, 'Score')"
            ]
          },
          "metadata": {
            "tags": []
          },
          "execution_count": 4
        },
        {
          "output_type": "display_data",
          "data": {
            "image/png": "[encoded data removed]",
            "text/plain": [
              "<Figure size 432x288 with 1 Axes>"
            ]
          },
          "metadata": {
            "tags": []
          }
        }
      ]
    },
    {
      "cell_type": "markdown",
      "metadata": {
        "id": "CmzjciqcUe8h"
      },
      "source": [
        "Train on MRI features."
      ]
    },
    {
      "cell_type": "code",
      "metadata": {
        "colab": {
          "base_uri": "https://localhost:8080/",
          "height": 314
        },
        "id": "G2h7q6qzUqkq",
        "outputId": "e238df05-1933-4240-f7c5-22356b931cce"
      },
      "source": [
        "from sklearn.model_selection import train_test_split\n",
        "from sklearn.model_selection import cross_val_score\n",
        "from sklearn.tree import DecisionTreeClassifier\n",
        "import matplotlib.pyplot as plt\n",
        "\n",
        "# split traing and testing data\n",
        "# split three groups of data, testing size = 0.2\n",
        "# split data set with only MRI features\n",
        "X_train3, X_test3, Y_train3, Y_test3 = train_test_split(X_MRI_feature, Y, test_size=0.2, random_state=0, shuffle=True)\n",
        "\n",
        "# have 4 features in total; so, try tree depth from 1 to 4\n",
        "# cross validate 5 times\n",
        "\n",
        "cros_valid_score = []\n",
        "test_score = []\n",
        "index = []\n",
        "for i in range(1,5):\n",
        "  index.append(i)\n",
        "  decisionTree = DecisionTreeClassifier(criterion='gini',splitter='best',max_depth=i)\n",
        "  valid_scores = cross_val_score(decisionTree, X_train3, Y_train3, cv = 5, scoring='accuracy')\n",
        "  valid_score = np.mean(valid_scores)\n",
        "  cros_valid_score.append(valid_score)\n",
        "\n",
        "  DTModel = decisionTree.fit(X_train3, Y_train3)\n",
        "  testScore = DTModel.score(X_test3, Y_test3)\n",
        "  test_score.append(testScore)\n",
        "\n",
        "print(test_score)\n",
        "\n",
        "plt.plot(index, cros_valid_score, 'b-')\n",
        "plt.plot(index, test_score,'y-')\n",
        "plt.legend(['Cross Valid Score', 'Test Score'])\n",
        "plt.xlabel('Max_depth')\n",
        "plt.ylabel('Score')"
      ],
      "execution_count": null,
      "outputs": [
        {
          "output_type": "stream",
          "text": [
            "[0.8933333333333333, 0.8933333333333333, 0.8933333333333333, 0.84]\n"
          ],
          "name": "stdout"
        },
        {
          "output_type": "execute_result",
          "data": {
            "text/plain": [
              "Text(0, 0.5, 'Score')"
            ]
          },
          "metadata": {
            "tags": []
          },
          "execution_count": 5
        },
        {
          "output_type": "display_data",
          "data": {
            "image/png": "[encoded data removed]",
            "text/plain": [
              "<Figure size 432x288 with 1 Axes>"
            ]
          },
          "metadata": {
            "tags": []
          }
        }
      ]
    },
    {
      "cell_type": "markdown",
      "metadata": {
        "id": "MCHf4ITuaFaI"
      },
      "source": [
        "Random Forest ( Hyperparameter tuning )"
      ]
    },
    {
      "cell_type": "markdown",
      "metadata": {
        "id": "NvCfCjqQ3efX"
      },
      "source": [
        "Grid Search Cross Validation (all features)"
      ]
    },
    {
      "cell_type": "code",
      "metadata": {
        "colab": {
          "background_save": true
        },
        "id": "NnlNJsmKzRjp",
        "outputId": "189e1e14-b7ee-4ca3-c93d-861ab6d70f06"
      },
      "source": [
        "from sklearn.ensemble import RandomForestClassifier\n",
        "from sklearn.model_selection import GridSearchCV\n",
        "X_train1, X_test1, Y_train1, Y_test1 = train_test_split(X_all_feature, Y, test_size=0.2, random_state=5, shuffle=True)\n",
        "n_estimators = [1, 2, 4, 8, 16, 32]\n",
        "max_depth = [None, 2,4,6,8]\n",
        "max_features = ['auto', 'sqrt', 'log2']\n",
        "min_samples_split = [6, 8, 10, 12]\n",
        "min_samples_leaf = [2, 4, 6, 8, 10]\n",
        "bootstrap = [True, False]\n",
        "\n",
        "grid_param = {'n_estimators': n_estimators, \n",
        "              'max_depth': max_depth, \n",
        "              'max_features': max_features, \n",
        "              'min_samples_split': min_samples_split,\n",
        "              'min_samples_leaf': min_samples_leaf, \n",
        "              'bootstrap': bootstrap}\n",
        "\n",
        "random_forest = RandomForestClassifier()\n",
        "rf_grid = GridSearchCV(random_forest, grid_param)\n",
        "rf_grid.fit(X_train1, Y_train1)\n",
        "testScore = rf_grid.score(X_test1, Y_test1)\n",
        "print(\"TestScore for Random Forest with Grid Search Cross Validation\", testScore)\n",
        "rf_grid.best_params_"
      ],
      "execution_count": null,
      "outputs": [
        {
          "output_type": "stream",
          "text": [
            "TestScore for Random Forest with Grid Search Cross Validation 0.9066666666666666\n"
          ],
          "name": "stdout"
        },
        {
          "output_type": "execute_result",
          "data": {
            "text/plain": [
              "{'bootstrap': False,\n",
              " 'max_depth': 6,\n",
              " 'max_features': 'auto',\n",
              " 'min_samples_leaf': 2,\n",
              " 'min_samples_split': 8,\n",
              " 'n_estimators': 8}"
            ]
          },
          "metadata": {
            "tags": []
          },
          "execution_count": 0
        }
      ]
    },
    {
      "cell_type": "code",
      "metadata": {
        "id": "TZdyMHFX1Lcs"
      },
      "source": [
        "# no gender featrue  \n",
        "X_train1_nogender, X_test1_nogender, Y_train1, Y_test1 = train_test_split(X_all_feature_nogender, Y, test_size=0.2, random_state=5, shuffle=True)\n",
        "random_forest = RandomForestClassifier()\n",
        "rf_grid = GridSearchCV(random_forest, grid_param)\n",
        "rf_grid.fit(X_train1_nogender, Y_train1)\n",
        "testScore = rf_grid.score(X_test1_nogender, Y_test1)\n",
        "print(\"TestScore for Random Forest non-gender with Grid Search Cross Validation\", testScore)\n",
        "rf_grid.best_params_"
      ],
      "execution_count": null,
      "outputs": []
    },
    {
      "cell_type": "markdown",
      "metadata": {
        "id": "Xt5H8m58Sboi"
      },
      "source": [
        "Grid Search Cross Validation(survey only features)\n"
      ]
    },
    {
      "cell_type": "code",
      "metadata": {
        "id": "18GYTL2uSl0l"
      },
      "source": [
        "X_train2, X_test2, Y_train2, Y_test2 = train_test_split(X_survey_feature, Y, test_size=0.2, random_state=10, shuffle=True)\n",
        "random_forest = RandomForestClassifier()\n",
        "rf_grid = GridSearchCV(random_forest, grid_param)\n",
        "rf_grid.fit(X_train2, Y_train2)\n",
        "testScore = rf_grid.score(X_test2, Y_test2)\n",
        "print(\"TestScore for Random Forest non-gender with Grid Search Cross Validation\", testScore)\n",
        "rf_grid.best_params_"
      ],
      "execution_count": null,
      "outputs": []
    },
    {
      "cell_type": "code",
      "metadata": {
        "colab": {
          "base_uri": "https://localhost:8080/"
        },
        "id": "Y88n8bNwS5v6",
        "outputId": "a5832d05-1ccb-49c6-88cc-58bbc77854b5"
      },
      "source": [
        "# no gender featrue  \n",
        "X_train2_nogender, X_test2_nogender, Y_train2, Y_test2 = train_test_split(X_survey_feature_nogender, Y, test_size=0.2, random_state=5, shuffle=True)\n",
        "random_forest = RandomForestClassifier()\n",
        "rf_grid = GridSearchCV(random_forest, grid_param)\n",
        "rf_grid.fit(X_train2_nogender, Y_train2)\n",
        "testScore = rf_grid.score(X_test2_nogender, Y_test2)\n",
        "print(\"TestScore for Random Forest non-gender with Grid Search Cross Validation\", testScore)\n",
        "rf_grid.best_params_"
      ],
      "execution_count": null,
      "outputs": [
        {
          "output_type": "stream",
          "text": [
            "TestScore for Random Forest non-gender with Grid Search Cross Validation 0.76\n"
          ],
          "name": "stdout"
        },
        {
          "output_type": "execute_result",
          "data": {
            "text/plain": [
              "{'bootstrap': True,\n",
              " 'max_depth': None,\n",
              " 'max_features': 'auto',\n",
              " 'min_samples_leaf': 2,\n",
              " 'min_samples_split': 6,\n",
              " 'n_estimators': 8}"
            ]
          },
          "metadata": {
            "tags": []
          },
          "execution_count": 9
        }
      ]
    },
    {
      "cell_type": "markdown",
      "metadata": {
        "id": "ATmtN-pTTaiZ"
      },
      "source": [
        "Grid Search Cross Validation(MRI only features)"
      ]
    },
    {
      "cell_type": "code",
      "metadata": {
        "colab": {
          "base_uri": "https://localhost:8080/"
        },
        "id": "PT6czTtiTY3f",
        "outputId": "d1821e6e-925e-4d58-af67-acde92f28296"
      },
      "source": [
        "X_train3, X_test3, Y_train3, Y_test3 = train_test_split(X_MRI_feature, Y, test_size=0.2, random_state=11, shuffle=True)\n",
        "random_forest = RandomForestClassifier()\n",
        "rf_grid = GridSearchCV(random_forest, grid_param)\n",
        "rf_grid.fit(X_train3, Y_train3)\n",
        "testScore = rf_grid.score(X_test3, Y_test3)\n",
        "print(\"TestScore for Random Forest non-gender with Grid Search Cross Validation\", testScore)\n",
        "rf_grid.best_params_"
      ],
      "execution_count": null,
      "outputs": [
        {
          "output_type": "stream",
          "text": [
            "TestScore for Random Forest non-gender with Grid Search Cross Validation 0.96\n"
          ],
          "name": "stdout"
        },
        {
          "output_type": "execute_result",
          "data": {
            "text/plain": [
              "{'bootstrap': True,\n",
              " 'max_depth': None,\n",
              " 'max_features': 'auto',\n",
              " 'min_samples_leaf': 2,\n",
              " 'min_samples_split': 10,\n",
              " 'n_estimators': 32}"
            ]
          },
          "metadata": {
            "tags": []
          },
          "execution_count": 10
        }
      ]
    },
    {
      "cell_type": "markdown",
      "metadata": {
        "id": "C9u5kLDWzSax"
      },
      "source": [
        "Random Forest All Features (Random Hyperparameter Search: tuning hyperparameters)"
      ]
    },
    {
      "cell_type": "code",
      "metadata": {
        "colab": {
          "base_uri": "https://localhost:8080/"
        },
        "id": "m2-eZJqBjjH2",
        "outputId": "decfacc3-addc-4f78-bbc4-b3918ab78acc"
      },
      "source": [
        "from sklearn.model_selection import RandomizedSearchCV\n",
        "X_train1, X_test1, Y_train1, Y_test1 = train_test_split(X_all_feature, Y, test_size=0.2, random_state=19, shuffle=True)\n",
        "n_estimators = [1, 2, 4, 8, 16, 32, 64, 128, 500, 1000]\n",
        "max_depth = [None, 1, 2,3, 4, 5, 6, 7, 8]\n",
        "max_features = ['auto', 'sqrt', 'log2']\n",
        "min_samples_split = [6, 8, 10, 12]\n",
        "min_samples_leaf = [2, 4, 6, 8, 10]\n",
        "bootstrap = [True, False]\n",
        "\n",
        "grid_param = {'n_estimators': n_estimators, \n",
        "              'max_depth': max_depth, \n",
        "              'max_features': max_features, \n",
        "              'min_samples_split': min_samples_split,\n",
        "              'min_samples_leaf': min_samples_leaf, \n",
        "              'bootstrap': bootstrap}\n",
        "\n",
        "random_forest = RandomForestClassifier()\n",
        "rf_rand = RandomizedSearchCV(random_forest, grid_param)\n",
        "rf_rand.fit(X_train1, Y_train1)\n",
        "testScore = rf_rand.score(X_test1, Y_test1)\n",
        "\n",
        "print(\"TestScore for Random Forest with Grid Search Cross Validation\", testScore)\n",
        "rf_rand.best_params_"
      ],
      "execution_count": null,
      "outputs": [
        {
          "output_type": "stream",
          "text": [
            "TestScore for Random Forest with Grid Search Cross Validation 0.9333333333333333\n"
          ],
          "name": "stdout"
        },
        {
          "output_type": "execute_result",
          "data": {
            "text/plain": [
              "{'bootstrap': False,\n",
              " 'max_depth': 5,\n",
              " 'max_features': 'sqrt',\n",
              " 'min_samples_leaf': 4,\n",
              " 'min_samples_split': 12,\n",
              " 'n_estimators': 64}"
            ]
          },
          "metadata": {
            "tags": []
          },
          "execution_count": 11
        }
      ]
    },
    {
      "cell_type": "code",
      "metadata": {
        "colab": {
          "base_uri": "https://localhost:8080/"
        },
        "id": "_gF67R5f2rRd",
        "outputId": "c8665b22-8c20-4f67-c778-e220d5cb829f"
      },
      "source": [
        "X_train1_nogender, X_test1_nogender, Y_train1, Y_test1 = train_test_split(X_all_feature_nogender, Y, test_size=0.2, random_state=5, shuffle=True)\n",
        "random_forest = RandomForestClassifier()\n",
        "rf_rand = RandomizedSearchCV(random_forest, grid_param)\n",
        "rf_rand.fit(X_train1_nogender, Y_train1)\n",
        "testScore = rf_rand.score(X_test1_nogender, Y_test1)\n",
        "print(\"TestScore for Non-gender Random Forest with Grid Search Cross Validation\", testScore)\n",
        "rf_rand.best_params_"
      ],
      "execution_count": null,
      "outputs": [
        {
          "output_type": "stream",
          "text": [
            "TestScore for Non-gender Random Forest with Grid Search Cross Validation 0.92\n"
          ],
          "name": "stdout"
        },
        {
          "output_type": "execute_result",
          "data": {
            "text/plain": [
              "{'bootstrap': False,\n",
              " 'max_depth': None,\n",
              " 'max_features': 'sqrt',\n",
              " 'min_samples_leaf': 10,\n",
              " 'min_samples_split': 6,\n",
              " 'n_estimators': 1000}"
            ]
          },
          "metadata": {
            "tags": []
          },
          "execution_count": 12
        }
      ]
    },
    {
      "cell_type": "markdown",
      "metadata": {
        "id": "VwQsveoH77R7"
      },
      "source": [
        "Random Search CV Dataset (Survey Only)"
      ]
    },
    {
      "cell_type": "code",
      "metadata": {
        "colab": {
          "base_uri": "https://localhost:8080/"
        },
        "id": "Da46GY0W29u7",
        "outputId": "2442c924-6254-423b-91d8-5374ddf2fc06"
      },
      "source": [
        "X_train2, X_test2, Y_train2, Y_test2 = train_test_split(X_survey_feature, Y, test_size=0.2, random_state=10, shuffle=True)\n",
        "random_forest = RandomForestClassifier()\n",
        "rf_rand = RandomizedSearchCV(random_forest, grid_param)\n",
        "rf_rand.fit(X_train2, Y_train2)\n",
        "testScore = rf_rand.score(X_test2, Y_test2)\n",
        "\n",
        "print(\"TestScore for Random Forest with Grid Search Cross Validation\", testScore)\n",
        "rf_rand.best_params_\n"
      ],
      "execution_count": null,
      "outputs": [
        {
          "output_type": "stream",
          "text": [
            "TestScore for Random Forest with Grid Search Cross Validation 0.8533333333333334\n"
          ],
          "name": "stdout"
        },
        {
          "output_type": "execute_result",
          "data": {
            "text/plain": [
              "{'bootstrap': True,\n",
              " 'max_depth': 7,\n",
              " 'max_features': 'sqrt',\n",
              " 'min_samples_leaf': 8,\n",
              " 'min_samples_split': 12,\n",
              " 'n_estimators': 500}"
            ]
          },
          "metadata": {
            "tags": []
          },
          "execution_count": 13
        }
      ]
    },
    {
      "cell_type": "code",
      "metadata": {
        "colab": {
          "base_uri": "https://localhost:8080/"
        },
        "id": "wj683P-PVq3W",
        "outputId": "a1c52848-e819-40cd-c649-8fa183dbcabb"
      },
      "source": [
        "X_train2_nogender, X_test2_nogender, Y_train2, Y_test2 = train_test_split(X_survey_feature_nogender, Y, test_size=0.2, random_state=5, shuffle=True)\n",
        "random_forest = RandomForestClassifier()\n",
        "rf_rand = RandomizedSearchCV(random_forest, grid_param)\n",
        "rf_rand.fit(X_train2_nogender, Y_train2)\n",
        "testScore = rf_grid.score(X_test2_nogender, Y_test2)\n",
        "print(\"TestScore for Random Forest non-gender with Grid Search Cross Validation\", testScore)\n",
        "rf_grid.best_params_"
      ],
      "execution_count": null,
      "outputs": [
        {
          "output_type": "stream",
          "text": [
            "TestScore for Random Forest non-gender with Grid Search Cross Validation 0.37333333333333335\n"
          ],
          "name": "stdout"
        },
        {
          "output_type": "execute_result",
          "data": {
            "text/plain": [
              "{'bootstrap': True,\n",
              " 'max_depth': None,\n",
              " 'max_features': 'auto',\n",
              " 'min_samples_leaf': 2,\n",
              " 'min_samples_split': 10,\n",
              " 'n_estimators': 32}"
            ]
          },
          "metadata": {
            "tags": []
          },
          "execution_count": 15
        }
      ]
    },
    {
      "cell_type": "code",
      "metadata": {
        "colab": {
          "base_uri": "https://localhost:8080/"
        },
        "id": "CXmEilMV_hHx",
        "outputId": "607bc06f-ec92-48fa-9ceb-2bf4022fe901"
      },
      "source": [
        "X_train3, X_test3, Y_train3, Y_test3 = train_test_split(X_MRI_feature, Y, test_size=0.2, random_state=11, shuffle=True)\n",
        "random_forest = RandomForestClassifier()\n",
        "rf_rand = RandomizedSearchCV(random_forest, grid_param)\n",
        "rf_rand.fit(X_train3, Y_train3)\n",
        "testScore = rf_grid.score(X_test3, Y_test3)\n",
        "print(\"TestScore for Random Forest with Grid Search Cross Validation\", testScore)\n",
        "rf_grid.best_params_"
      ],
      "execution_count": null,
      "outputs": [
        {
          "output_type": "stream",
          "text": [
            "TestScore for Random Forest with Grid Search Cross Validation 0.96\n"
          ],
          "name": "stdout"
        },
        {
          "output_type": "execute_result",
          "data": {
            "text/plain": [
              "{'bootstrap': True,\n",
              " 'max_depth': None,\n",
              " 'max_features': 'auto',\n",
              " 'min_samples_leaf': 2,\n",
              " 'min_samples_split': 10,\n",
              " 'n_estimators': 32}"
            ]
          },
          "metadata": {
            "tags": []
          },
          "execution_count": 16
        }
      ]
    },
    {
      "cell_type": "markdown",
      "metadata": {
        "id": "61rcwjiVPVv7"
      },
      "source": [
        "Random Forest All Features (tuning only on max_depth: max_depth vs. accuracy)"
      ]
    },
    {
      "cell_type": "code",
      "metadata": {
        "id": "NgsaUQ95aLxy"
      },
      "source": [
        "from sklearn.ensemble import RandomForestClassifier\n",
        "X_train1, X_test1, Y_train1, Y_test1 = train_test_split(X_all_feature, Y, test_size=0.2, random_state=5, shuffle=True)\n",
        "cros_valid_score = []\n",
        "test_score = []\n",
        "index = []\n",
        "for i in range(1,10):\n",
        "  index.append(i)\n",
        "  random_forest = RandomForestClassifier(criterion='gini',max_depth=i)\n",
        "  valid_scores = cross_val_score(random_forest, X_train1, Y_train1, cv = 5, scoring='accuracy')\n",
        "  valid_score = np.mean(valid_scores)\n",
        "  cros_valid_score.append(valid_score)\n",
        "\n",
        "  DTModel = random_forest.fit(X_train1, Y_train1)\n",
        "  testScore = DTModel.score(X_test1, Y_test1)\n",
        "  test_score.append(testScore)\n",
        "\n",
        "# no gender featrue  \n",
        "X_train1_nogender, X_test1_nogender, Y_train1, Y_test1 = train_test_split(X_all_feature_nogender, Y, test_size=0.2, random_state=5, shuffle=True)\n",
        "cros_valid_score_nogender = []\n",
        "test_score_nogender = []\n",
        "index_nogender = []\n",
        "for i in range(1,9):\n",
        "  index_nogender.append(i)\n",
        "  random_forest = RandomForestClassifier(criterion='gini',max_depth=i)\n",
        "  valid_scores_nogender = cross_val_score(random_forest, X_train1_nogender, Y_train1, cv = 5, scoring='accuracy')\n",
        "  valid_score_nogender = np.mean(valid_scores_nogender)\n",
        "  cros_valid_score_nogender.append(valid_score_nogender)\n",
        "\n",
        "  DTModel = random_forest.fit(X_train1_nogender, Y_train1)\n",
        "  testScore_nogender = DTModel.score(X_test1_nogender, Y_test1)\n",
        "  test_score_nogender.append(testScore_nogender)\n",
        "\n",
        "plt.plot(index, cros_valid_score, 'b-')\n",
        "plt.plot(index, test_score,'y-')\n",
        "plt.plot(index_nogender, cros_valid_score_nogender, 'b--')\n",
        "plt.plot(index_nogender, test_score_nogender,'y--')\n",
        "plt.legend(['Cross Valid Score', 'Test Score', 'Cross Valid Score no-gender', 'Test Score no-gender'])\n",
        "plt.xlabel('Max_depth')\n",
        "plt.ylabel('Score')"
      ],
      "execution_count": null,
      "outputs": []
    },
    {
      "cell_type": "markdown",
      "metadata": {
        "id": "CgBoK4NaPuH2"
      },
      "source": [
        "Random Forest on survey based feature\n"
      ]
    },
    {
      "cell_type": "code",
      "metadata": {
        "id": "3dNud5ycP2TV"
      },
      "source": [
        "from sklearn.ensemble import RandomForestClassifier\n",
        "X_train2, X_test2, Y_train2, Y_test2 = train_test_split(X_survey_feature, Y, test_size=0.3, random_state=10, shuffle=True)\n",
        "cros_valid_score = []\n",
        "test_score = []\n",
        "index = []\n",
        "for i in range(1,6):\n",
        "  index.append(i)\n",
        "  random_forest = RandomForestClassifier(criterion='gini',max_depth=i)\n",
        "  valid_scores = cross_val_score(random_forest, X_train2, Y_train2, cv = 5, scoring='accuracy')\n",
        "  valid_score = np.mean(valid_scores)\n",
        "  cros_valid_score.append(valid_score)\n",
        "\n",
        "  DTModel = random_forest.fit(X_train2, Y_train2)\n",
        "  testScore = DTModel.score(X_test2, Y_test2)\n",
        "  test_score.append(testScore)\n",
        "\n",
        "# no gender feature\n",
        "X_train2_nogender, X_test2_nogender, Y_train2, Y_test2 = train_test_split(X_survey_feature_nogender, Y, test_size=0.3, random_state=10, shuffle=True)\n",
        "cros_valid_score_nogender = []\n",
        "test_score_nogender = []\n",
        "index_nogender = []\n",
        "for i in range(1,5):\n",
        "  index_nogender.append(i)\n",
        "  random_forest = RandomForestClassifier(criterion='gini',max_depth=i)\n",
        "  valid_scores_nogender = cross_val_score(random_forest, X_train2_nogender, Y_train2, cv = 5, scoring='accuracy')\n",
        "  valid_score_nogender = np.mean(valid_scores_nogender)\n",
        "  cros_valid_score_nogender.append(valid_score_nogender)\n",
        "\n",
        "  DTModel = random_forest.fit(X_train2_nogender, Y_train2)\n",
        "  testScore_nogender = DTModel.score(X_test2_nogender, Y_test2)\n",
        "  test_score_nogender.append(testScore_nogender)\n",
        "\n",
        "plt.plot(index, cros_valid_score, 'b-')\n",
        "plt.plot(index, test_score,'y-')\n",
        "plt.plot(index_nogender, cros_valid_score_nogender, 'b--')\n",
        "plt.plot(index_nogender, test_score_nogender,'y--')\n",
        "plt.legend(['Cross Valid Score', 'Test Score', 'Cross Valid Score no-gender', 'Test Score no-gender'])\n",
        "plt.xlabel('Max_depth')\n",
        "plt.ylabel('Score')"
      ],
      "execution_count": null,
      "outputs": []
    },
    {
      "cell_type": "markdown",
      "metadata": {
        "id": "i2UKrKy3SBvK"
      },
      "source": [
        "Random Forest on MRI Tests\n"
      ]
    },
    {
      "cell_type": "code",
      "metadata": {
        "id": "yNcUMqTlUjku"
      },
      "source": [
        "from sklearn.model_selection import train_test_split\n",
        "from sklearn.model_selection import cross_val_score\n",
        "from sklearn.tree import DecisionTreeClassifier\n",
        "import matplotlib.pyplot as plt\n",
        "\n",
        "# split traing and testing data\n",
        "# split three groups of data, testing size = 0.2\n",
        "# split data set with only MRI features\n",
        "X_train3, X_test3, Y_train3, Y_test3 = train_test_split(X_MRI_feature, Y, test_size=0.2, random_state=11, shuffle=True)\n",
        "\n",
        "# have 4 features in total; so, try tree depth from 1 to 4\n",
        "# cross validate 5 times\n",
        "\n",
        "cros_valid_score = []\n",
        "test_score = []\n",
        "index = []\n",
        "for i in range(1,5):\n",
        "  index.append(i)\n",
        "  random_forest = RandomForestClassifier(criterion='gini',max_depth=i)\n",
        "  valid_scores = cross_val_score(random_forest, X_train3, Y_train3, cv = 5, scoring='accuracy')\n",
        "  valid_score = np.mean(valid_scores)\n",
        "  cros_valid_score.append(valid_score)\n",
        "\n",
        "  DTModel = random_forest.fit(X_train3, Y_train3)\n",
        "  testScore = DTModel.score(X_test3, Y_test3)\n",
        "  test_score.append(testScore)\n",
        "\n",
        "plt.plot(index, cros_valid_score, 'b-')\n",
        "plt.plot(index, test_score,'y-')\n",
        "plt.legend(['Cross Valid Score', 'Test Score'])\n",
        "plt.xlabel('Max_depth')\n",
        "plt.ylabel('Score')"
      ],
      "execution_count": null,
      "outputs": []
    },
    {
      "cell_type": "markdown",
      "metadata": {
        "id": "CR8662H5jNsT"
      },
      "source": [
        "Neural Network"
      ]
    },
    {
      "cell_type": "code",
      "metadata": {
        "id": "WcPjKdoEWg9q"
      },
      "source": [
        "# Data prepocessing\n",
        "\n",
        "import numpy as np\n",
        "import pandas as pd\n",
        "\n",
        "df = pd.read_csv('oasis_longitudinal.csv')\n",
        "\n",
        "# delete non-useful data features\n",
        "# delet Subject ID, MRI ID, Visit, MR Delay, Hand \n",
        "df = df.drop(['Subject ID', 'MRI ID', 'Visit', 'MR Delay', 'Hand'], axis = 1)\n",
        "\n",
        "# One-Hot encoded\n",
        "df['M/F'] = df['M/F'].replace(['F', 'M'], [0,1]) # F=0; M=1\n",
        "df['Group'] = df['Group'].replace(['Demented', 'Nondemented', 'Converted'], [0,1,2]) # Demented=0; Nondemented=1; Converted=2\n",
        "\n",
        "# fill missing values with mean\n",
        "df.fillna(df.mean(), inplace=True)\n",
        "\n",
        "# min-max normalize data\n",
        "df['Age'] = (df['Age']-df['Age'].min())/(df['Age'].max()-df['Age'].min())\n",
        "df['EDUC'] = (df['EDUC']-df['EDUC'].min())/(df['EDUC'].max()-df['EDUC'].min())\n",
        "df['SES'] = (df['SES']-df['SES'].min())/(df['SES'].max()-df['SES'].min())\n",
        "df['MMSE'] = (df['MMSE']-df['MMSE'].min())/(df['MMSE'].max()-df['MMSE'].min())\n",
        "df['CDR'] = (df['CDR']-df['CDR'].min())/(df['CDR'].max()-df['CDR'].min())\n",
        "df['eTIV'] = (df['eTIV']-df['eTIV'].min())/(df['eTIV'].max()-df['eTIV'].min())\n",
        "df['nWBV'] = (df['nWBV']-df['nWBV'].min())/(df['nWBV'].max()-df['nWBV'].min())\n",
        "df['ASF'] = (df['ASF']-df['ASF'].min())/(df['ASF'].max()-df['ASF'].min())\n",
        "\n",
        "df.head()\n"
      ],
      "execution_count": null,
      "outputs": []
    },
    {
      "cell_type": "code",
      "metadata": {
        "id": "xlYxGgcKaD2j"
      },
      "source": [
        "# set target\n",
        "Y = df['Group']\n",
        "\n",
        "# separat dataset into three groups: with only survey-based features, with only MRI features, and with both\n",
        "\n",
        "X_all_feature = df[['M/F', 'Age', 'EDUC', 'SES', 'MMSE', 'CDR', 'eTIV', 'nWBV', 'ASF']]\n",
        "X_survey_feature = df[['M/F', 'Age', 'EDUC', 'SES', 'MMSE']]\n",
        "X_MRI_feature = df[['CDR', 'eTIV', 'nWBV', 'ASF']]\n",
        "\n",
        "# another two groups with no gender feature (ethics consideratioin)\n",
        "X_all_feature_nogender = df[['Age', 'EDUC', 'SES', 'MMSE', 'CDR', 'eTIV', 'nWBV', 'ASF']]\n",
        "X_survey_feature_nogender = df[['Age', 'EDUC', 'SES', 'MMSE']]"
      ],
      "execution_count": null,
      "outputs": []
    },
    {
      "cell_type": "code",
      "metadata": {
        "id": "s_Wyqtf3jNLR"
      },
      "source": [
        "# import\n",
        "import torch\n",
        "from sklearn.model_selection import train_test_split\n",
        "import torch.nn.functional as F\n",
        "import torch.nn as nn\n",
        "import matplotlib.pyplot as plt"
      ],
      "execution_count": null,
      "outputs": []
    },
    {
      "cell_type": "code",
      "metadata": {
        "id": "p88nZUUpe4jZ"
      },
      "source": [
        "# define training and testing loop for all neural network\n",
        "def training_loop(net,optimizer,criterion,num_epochs,train_loader):\n",
        "  counter = 0\n",
        "  loss_plot = []\n",
        "  for epoch in range(num_epochs):\n",
        "    for i,(x,y) in enumerate(train_loader):\n",
        "      counter += 1\n",
        "      optimizer.zero_grad()\n",
        "\n",
        "      x = x.float().to(device)\n",
        "      y = y.long().to(device)\n",
        "\n",
        "      outputs = net(x).to(device) \n",
        "\n",
        "      loss = criterion(outputs,y)  \n",
        "      loss.backward()\n",
        "      optimizer.step()\n",
        "      loss_plot.append(loss.item())\n",
        "\n",
        "      if (counter+1) % 10 == 0: \n",
        "        argmax = torch.max(outputs, 1)[1]\n",
        "        accuracy = (y == argmax.squeeze()).float().mean()\n",
        "        print ('Epoch : %d/%d,  Loss: %.4f, Accuracy: %.4f' \n",
        "                 %(epoch+1, num_epochs, loss.item(), accuracy.item()))\n",
        "  return net, loss_plot\n",
        "  \n",
        "'''def accuracy(outputs, labels):\n",
        "    _, preds = torch.max(outputs, dim=1)\n",
        "    return torch.tensor(torch.sum(preds == labels).item() / len(preds))\n",
        "'''\n",
        "def test_loop(net,test_loader):\n",
        "  net.eval()\n",
        "  accuracy_list = []\n",
        "  for i,(x,y) in enumerate(test_loader):\n",
        "    x = x.float().to(device)\n",
        "    y = y.long().to(device)\n",
        "    outputs = net(x).to(device)\n",
        "    argmax = torch.max(outputs, 1)[1]\n",
        "    accuracy = (y == argmax.squeeze()).float().mean()\n",
        "    accuracy_list.append(accuracy)\n",
        "  \n",
        "  accuracy = sum(accuracy_list) / len(accuracy_list)\n",
        "  print('accuracy:',accuracy)\n",
        "  \n",
        "  return accuracy"
      ],
      "execution_count": null,
      "outputs": []
    },
    {
      "cell_type": "markdown",
      "metadata": {
        "id": "0Ip1ID2UfKw0"
      },
      "source": [
        "The first neural network. This network uses all featurs_no_gender."
      ]
    },
    {
      "cell_type": "code",
      "metadata": {
        "id": "LNZJVAn2ek5U"
      },
      "source": [
        "X_train1_nogender, X_test1_nogender, Y_train1, Y_test1 = train_test_split(X_all_feature_nogender, Y, test_size=0.2, random_state=5, shuffle=True)\n",
        "X_train1_nogender = X_train1_nogender.to_numpy()\n",
        "X_test1_nogender = X_test1_nogender.to_numpy()\n",
        "Y_train1 = Y_train1.to_numpy()\n",
        "Y_test1 = Y_test1.to_numpy()\n",
        "train_dataset1 = torch.utils.data.TensorDataset(torch.tensor(X_train1_nogender),torch.tensor(Y_train1))\n",
        "test_dataset1 = torch.utils.data.TensorDataset(torch.tensor(X_test1_nogender),torch.tensor(Y_test1))\n",
        "\n",
        "b_size = 5\n",
        "\n",
        "train_loader1 = torch.utils.data.DataLoader(dataset=train_dataset1,batch_size=b_size,shuffle=True)\n",
        "test_loader1 = torch.utils.data.DataLoader(dataset=test_dataset1,batch_size=b_size,shuffle=True)\n",
        "\n",
        "class Neural_Network1(torch.nn.Module):\n",
        "\n",
        "  def __init__(self):\n",
        "    super(Neural_Network1, self).__init__()\n",
        "    self.layer1 = torch.nn.Linear(8,16)\n",
        "    self.layer2 = torch.nn.Linear(16,16)\n",
        "    self.layer3 = torch.nn.Linear(16,16)\n",
        "    self.layer4 = torch.nn.Linear(16,16)\n",
        "    self.layer5 = torch.nn.Linear(16,3)\n",
        "\n",
        "  def forward(self,x):\n",
        "    x = F.relu(self.layer1(x))\n",
        "    x = F.relu(self.layer2(x))\n",
        "    x = F.relu(self.layer3(x))\n",
        "    x = F.relu(self.layer4(x))\n",
        "    x = self.layer5(x)\n",
        "\n",
        "    return x\n",
        "\n",
        "     \n",
        "device =  torch.device(\"cuda:0\" if torch.cuda.is_available() else \"cpu\")\n",
        "num_epochs = 100\n",
        "learning_rate = 0.003\n",
        "\n",
        "net = Neural_Network1()\n",
        "net = net.to(device)\n",
        "\n",
        "criterion = torch.nn.CrossEntropyLoss()\n",
        "optimizer = torch.optim.Adagrad(net.parameters(),lr = learning_rate)\n",
        "result_net, loss_plot = training_loop(net,optimizer,criterion,num_epochs,train_loader1)\n",
        "\n",
        "accuracy = test_loop(result_net,test_loader1)\n",
        "\n",
        "plt.plot([i for i,a in enumerate(loss_plot)],loss_plot)\n",
        "plt.xlabel(\"Iteration\")\n",
        "plt.ylabel(\"Loss\")\n",
        "plt.show()"
      ],
      "execution_count": null,
      "outputs": []
    },
    {
      "cell_type": "markdown",
      "metadata": {
        "id": "kqroXEiKfUCQ"
      },
      "source": [
        "The second neural network. This network uses MRI features."
      ]
    },
    {
      "cell_type": "code",
      "metadata": {
        "id": "IQomRpHKetPe"
      },
      "source": [
        "#X_MRI_feature = df[['CDR', 'eTIV', 'nWBV', 'ASF']]\n",
        "\n",
        "X_train2, X_test2, Y_train2, Y_test2 = train_test_split(X_MRI_feature, Y, test_size=0.2, random_state=5, shuffle=True)\n",
        "X_train2 = X_train2.to_numpy()\n",
        "X_test2 = X_test2.to_numpy()\n",
        "Y_train2 = Y_train2.to_numpy()\n",
        "Y_test2 = Y_test2.to_numpy()\n",
        "train_dataset2 = torch.utils.data.TensorDataset(torch.tensor(X_train2),torch.tensor(Y_train2))\n",
        "test_dataset2 = torch.utils.data.TensorDataset(torch.tensor(X_test2),torch.tensor(Y_test2))\n",
        "\n",
        "b_size = 5\n",
        "\n",
        "train_loader2 = torch.utils.data.DataLoader(dataset=train_dataset2,batch_size=b_size,shuffle=True)\n",
        "test_loader2 = torch.utils.data.DataLoader(dataset=test_dataset2,batch_size=b_size,shuffle=True)\n",
        "\n",
        "class Neural_Network2(torch.nn.Module):\n",
        "\n",
        "  def __init__(self):\n",
        "    super(Neural_Network2, self).__init__()\n",
        "    self.layer1 = torch.nn.Linear(4,16)\n",
        "    self.layer2 = torch.nn.Linear(16,16)\n",
        "    self.layer3 = torch.nn.Linear(16,16)\n",
        "    self.layer4 = torch.nn.Linear(16,16)\n",
        "    self.layer5 = torch.nn.Linear(16,3)\n",
        "\n",
        "  def forward(self,x):\n",
        "    x = F.relu(self.layer1(x))\n",
        "    x = F.relu(self.layer2(x))\n",
        "    x = F.relu(self.layer3(x))\n",
        "    x = F.relu(self.layer4(x))\n",
        "    x = self.layer5(x)\n",
        "\n",
        "    return x\n",
        "\n",
        "     \n",
        "device =  torch.device(\"cuda:0\" if torch.cuda.is_available() else \"cpu\")\n",
        "num_epochs = 100\n",
        "learning_rate = 0.003\n",
        "\n",
        "net = Neural_Network2()\n",
        "net = net.to(device)\n",
        "\n",
        "criterion = torch.nn.CrossEntropyLoss()\n",
        "optimizer = torch.optim.Adagrad(net.parameters(),lr = learning_rate)\n",
        "result_net, loss_plot = training_loop(net,optimizer,criterion,num_epochs,train_loader2)\n",
        "\n",
        "accuracy = test_loop(result_net,test_loader2)\n",
        "\n",
        "plt.plot([i for i,a in enumerate(loss_plot)],loss_plot)\n",
        "plt.xlabel(\"Iteration\")\n",
        "plt.ylabel(\"Loss\")\n",
        "plt.show()"
      ],
      "execution_count": null,
      "outputs": []
    },
    {
      "cell_type": "markdown",
      "metadata": {
        "id": "o30r1ND6kOQm"
      },
      "source": [
        "The second neural network. This network uses survey features_no_gender."
      ]
    },
    {
      "cell_type": "code",
      "metadata": {
        "id": "P3dcbUUSkTju"
      },
      "source": [
        "#X_survey_feature_nogender = df[['Age', 'EDUC', 'SES', 'MMSE']]\n",
        "\n",
        "X_train3, X_test3, Y_train3, Y_test3 = train_test_split(X_survey_feature_nogender, Y, test_size=0.2, random_state=5, shuffle=True)\n",
        "X_train3 = X_train3.to_numpy()\n",
        "X_test3 = X_test3.to_numpy()\n",
        "Y_train3 = Y_train3.to_numpy()\n",
        "Y_test3 = Y_test3.to_numpy()\n",
        "train_dataset3 = torch.utils.data.TensorDataset(torch.tensor(X_train3),torch.tensor(Y_train3))\n",
        "test_dataset3 = torch.utils.data.TensorDataset(torch.tensor(X_test3),torch.tensor(Y_test3))\n",
        "\n",
        "b_size = 5\n",
        "\n",
        "train_loader3 = torch.utils.data.DataLoader(dataset=train_dataset3,batch_size=b_size,shuffle=True)\n",
        "test_loader3 = torch.utils.data.DataLoader(dataset=test_dataset3,batch_size=b_size,shuffle=True)\n",
        "\n",
        "class Neural_Network3(torch.nn.Module):\n",
        "\n",
        "  def __init__(self):\n",
        "    super(Neural_Network3, self).__init__()\n",
        "    self.layer1 = torch.nn.Linear(4,16)\n",
        "    self.layer2 = torch.nn.Linear(16,16)\n",
        "    self.layer3 = torch.nn.Linear(16,16)\n",
        "    self.layer4 = torch.nn.Linear(16,16)\n",
        "    self.layer5 = torch.nn.Linear(16,3)\n",
        "\n",
        "  def forward(self,x):\n",
        "    x = F.relu(self.layer1(x))\n",
        "    x = F.relu(self.layer2(x))\n",
        "    x = F.relu(self.layer3(x))\n",
        "    x = F.relu(self.layer4(x))\n",
        "    x = self.layer5(x)\n",
        "\n",
        "    return x\n",
        "\n",
        "     \n",
        "device =  torch.device(\"cuda:0\" if torch.cuda.is_available() else \"cpu\")\n",
        "num_epochs = 100\n",
        "learning_rate = 0.002\n",
        "\n",
        "net = Neural_Network3()\n",
        "net = net.to(device)\n",
        "\n",
        "criterion = torch.nn.CrossEntropyLoss()\n",
        "optimizer = torch.optim.Adagrad(net.parameters(),lr = learning_rate)\n",
        "result_net, loss_plot = training_loop(net,optimizer,criterion,num_epochs,train_loader3)\n",
        "\n",
        "accuracy = test_loop(result_net,test_loader3)\n",
        "\n",
        "plt.plot([i for i,a in enumerate(loss_plot)],loss_plot)\n",
        "plt.xlabel(\"Iteration\")\n",
        "plt.ylabel(\"Loss\")\n",
        "plt.show()"
      ],
      "execution_count": null,
      "outputs": []
    }
  ]
}